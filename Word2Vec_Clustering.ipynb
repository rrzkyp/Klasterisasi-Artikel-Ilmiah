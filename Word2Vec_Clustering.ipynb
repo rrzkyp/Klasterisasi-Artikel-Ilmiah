{
  "nbformat": 4,
  "nbformat_minor": 0,
  "metadata": {
    "colab": {
      "provenance": []
    },
    "kernelspec": {
      "name": "python3",
      "display_name": "Python 3"
    },
    "language_info": {
      "name": "python"
    }
  },
  "cells": [
    {
      "cell_type": "code",
      "execution_count": null,
      "metadata": {
        "id": "asm1INAbPsrD"
      },
      "outputs": [],
      "source": [
        "import nltk\n",
        "import numpy as np\n",
        "import pandas as pd\n",
        "import matplotlib.pyplot as plt\n",
        "from collections import Counter\n",
        "from nltk.corpus import stopwords\n",
        "from wordcloud import WordCloud, STOPWORDS\n",
        "from sklearn.cluster import KMeans\n",
        "from sklearn.feature_extraction.text import TfidfVectorizer\n",
        "from sklearn.decomposition import PCA\n",
        "import re\n",
        "import seaborn as sns"
      ]
    },
    {
      "cell_type": "code",
      "source": [
        "data = pd.read_csv(r'STKIHEHE.csv',encoding='cp1252',nrows=100)\n",
        "data.head(100)[['title', 'abstrak','truelabel']]"
      ],
      "metadata": {
        "colab": {
          "base_uri": "https://localhost:8080/",
          "height": 424
        },
        "id": "yzSUq2JKP5cj",
        "outputId": "5f13ca76-841c-49b7-8034-52e0065e5ddc"
      },
      "execution_count": null,
      "outputs": [
        {
          "output_type": "execute_result",
          "data": {
            "text/plain": [
              "                                                title  \\\n",
              "0   APLIKASI CHATBOT BERBASIS WEB MENGGUNAKAN METO...   \n",
              "1   Pelabelan Data Dengan Latent Dirichlet Allocat...   \n",
              "2   Penerapan Computer Vision Untuk Pendeteksian D...   \n",
              "3   Klasifikasi Citra Game Batu Kertas Gunting Men...   \n",
              "4   ANALISIS USAHA TERNAK AYAM BROILER DI PETERNAK...   \n",
              "..                                                ...   \n",
              "95  Deteksi Pelanggaran Lampu Lalu Lintas Berdasar...   \n",
              "96  Aplikasi Pengolahan Sinyal Suara pada Teknolog...   \n",
              "97  PENDEKATAN ANN (ARTIFICIAL NEURAL NETWORK) UNT...   \n",
              "98  Implementasi Algoritma Artificial Neural Netwo...   \n",
              "99  Klasifikasi penderita kanker Paru Paru Menggun...   \n",
              "\n",
              "                                              abstrak  truelabel  \n",
              "0   Chatbot adalah sebuah program komputer yang di...          0  \n",
              "1   Media sosial telah cukup lama menjadi sumber u...          0  \n",
              "2   Pembatasan kapasitas pengunjung pada suatu tem...          0  \n",
              "3   Permainan batu, gunting, dan kertas sangat pop...          0  \n",
              "4   Penelitian ini bertujuan untuk mengetahui besa...          3  \n",
              "..                                                ...        ...  \n",
              "95  Peningkatan jumlah pengendara yang pesat beref...          0  \n",
              "96  Dalam konsep Kecerdasan Buatan (Artificial Int...          0  \n",
              "97  Pengambilan keputusan dalam estimasi biaya dal...          0  \n",
              "98  Perkembangan kecerdasan buatan telah dimanfaat...          0  \n",
              "99  Kanker adalah penyakit yang disebabkan oleh pe...          0  \n",
              "\n",
              "[100 rows x 3 columns]"
            ],
            "text/html": [
              "\n",
              "  <div id=\"df-78929d06-a010-4d18-83e2-30c85d7b3bf0\">\n",
              "    <div class=\"colab-df-container\">\n",
              "      <div>\n",
              "<style scoped>\n",
              "    .dataframe tbody tr th:only-of-type {\n",
              "        vertical-align: middle;\n",
              "    }\n",
              "\n",
              "    .dataframe tbody tr th {\n",
              "        vertical-align: top;\n",
              "    }\n",
              "\n",
              "    .dataframe thead th {\n",
              "        text-align: right;\n",
              "    }\n",
              "</style>\n",
              "<table border=\"1\" class=\"dataframe\">\n",
              "  <thead>\n",
              "    <tr style=\"text-align: right;\">\n",
              "      <th></th>\n",
              "      <th>title</th>\n",
              "      <th>abstrak</th>\n",
              "      <th>truelabel</th>\n",
              "    </tr>\n",
              "  </thead>\n",
              "  <tbody>\n",
              "    <tr>\n",
              "      <th>0</th>\n",
              "      <td>APLIKASI CHATBOT BERBASIS WEB MENGGUNAKAN METO...</td>\n",
              "      <td>Chatbot adalah sebuah program komputer yang di...</td>\n",
              "      <td>0</td>\n",
              "    </tr>\n",
              "    <tr>\n",
              "      <th>1</th>\n",
              "      <td>Pelabelan Data Dengan Latent Dirichlet Allocat...</td>\n",
              "      <td>Media sosial telah cukup lama menjadi sumber u...</td>\n",
              "      <td>0</td>\n",
              "    </tr>\n",
              "    <tr>\n",
              "      <th>2</th>\n",
              "      <td>Penerapan Computer Vision Untuk Pendeteksian D...</td>\n",
              "      <td>Pembatasan kapasitas pengunjung pada suatu tem...</td>\n",
              "      <td>0</td>\n",
              "    </tr>\n",
              "    <tr>\n",
              "      <th>3</th>\n",
              "      <td>Klasifikasi Citra Game Batu Kertas Gunting Men...</td>\n",
              "      <td>Permainan batu, gunting, dan kertas sangat pop...</td>\n",
              "      <td>0</td>\n",
              "    </tr>\n",
              "    <tr>\n",
              "      <th>4</th>\n",
              "      <td>ANALISIS USAHA TERNAK AYAM BROILER DI PETERNAK...</td>\n",
              "      <td>Penelitian ini bertujuan untuk mengetahui besa...</td>\n",
              "      <td>3</td>\n",
              "    </tr>\n",
              "    <tr>\n",
              "      <th>...</th>\n",
              "      <td>...</td>\n",
              "      <td>...</td>\n",
              "      <td>...</td>\n",
              "    </tr>\n",
              "    <tr>\n",
              "      <th>95</th>\n",
              "      <td>Deteksi Pelanggaran Lampu Lalu Lintas Berdasar...</td>\n",
              "      <td>Peningkatan jumlah pengendara yang pesat beref...</td>\n",
              "      <td>0</td>\n",
              "    </tr>\n",
              "    <tr>\n",
              "      <th>96</th>\n",
              "      <td>Aplikasi Pengolahan Sinyal Suara pada Teknolog...</td>\n",
              "      <td>Dalam konsep Kecerdasan Buatan (Artificial Int...</td>\n",
              "      <td>0</td>\n",
              "    </tr>\n",
              "    <tr>\n",
              "      <th>97</th>\n",
              "      <td>PENDEKATAN ANN (ARTIFICIAL NEURAL NETWORK) UNT...</td>\n",
              "      <td>Pengambilan keputusan dalam estimasi biaya dal...</td>\n",
              "      <td>0</td>\n",
              "    </tr>\n",
              "    <tr>\n",
              "      <th>98</th>\n",
              "      <td>Implementasi Algoritma Artificial Neural Netwo...</td>\n",
              "      <td>Perkembangan kecerdasan buatan telah dimanfaat...</td>\n",
              "      <td>0</td>\n",
              "    </tr>\n",
              "    <tr>\n",
              "      <th>99</th>\n",
              "      <td>Klasifikasi penderita kanker Paru Paru Menggun...</td>\n",
              "      <td>Kanker adalah penyakit yang disebabkan oleh pe...</td>\n",
              "      <td>0</td>\n",
              "    </tr>\n",
              "  </tbody>\n",
              "</table>\n",
              "<p>100 rows × 3 columns</p>\n",
              "</div>\n",
              "      <button class=\"colab-df-convert\" onclick=\"convertToInteractive('df-78929d06-a010-4d18-83e2-30c85d7b3bf0')\"\n",
              "              title=\"Convert this dataframe to an interactive table.\"\n",
              "              style=\"display:none;\">\n",
              "        \n",
              "  <svg xmlns=\"http://www.w3.org/2000/svg\" height=\"24px\"viewBox=\"0 0 24 24\"\n",
              "       width=\"24px\">\n",
              "    <path d=\"M0 0h24v24H0V0z\" fill=\"none\"/>\n",
              "    <path d=\"M18.56 5.44l.94 2.06.94-2.06 2.06-.94-2.06-.94-.94-2.06-.94 2.06-2.06.94zm-11 1L8.5 8.5l.94-2.06 2.06-.94-2.06-.94L8.5 2.5l-.94 2.06-2.06.94zm10 10l.94 2.06.94-2.06 2.06-.94-2.06-.94-.94-2.06-.94 2.06-2.06.94z\"/><path d=\"M17.41 7.96l-1.37-1.37c-.4-.4-.92-.59-1.43-.59-.52 0-1.04.2-1.43.59L10.3 9.45l-7.72 7.72c-.78.78-.78 2.05 0 2.83L4 21.41c.39.39.9.59 1.41.59.51 0 1.02-.2 1.41-.59l7.78-7.78 2.81-2.81c.8-.78.8-2.07 0-2.86zM5.41 20L4 18.59l7.72-7.72 1.47 1.35L5.41 20z\"/>\n",
              "  </svg>\n",
              "      </button>\n",
              "      \n",
              "  <style>\n",
              "    .colab-df-container {\n",
              "      display:flex;\n",
              "      flex-wrap:wrap;\n",
              "      gap: 12px;\n",
              "    }\n",
              "\n",
              "    .colab-df-convert {\n",
              "      background-color: #E8F0FE;\n",
              "      border: none;\n",
              "      border-radius: 50%;\n",
              "      cursor: pointer;\n",
              "      display: none;\n",
              "      fill: #1967D2;\n",
              "      height: 32px;\n",
              "      padding: 0 0 0 0;\n",
              "      width: 32px;\n",
              "    }\n",
              "\n",
              "    .colab-df-convert:hover {\n",
              "      background-color: #E2EBFA;\n",
              "      box-shadow: 0px 1px 2px rgba(60, 64, 67, 0.3), 0px 1px 3px 1px rgba(60, 64, 67, 0.15);\n",
              "      fill: #174EA6;\n",
              "    }\n",
              "\n",
              "    [theme=dark] .colab-df-convert {\n",
              "      background-color: #3B4455;\n",
              "      fill: #D2E3FC;\n",
              "    }\n",
              "\n",
              "    [theme=dark] .colab-df-convert:hover {\n",
              "      background-color: #434B5C;\n",
              "      box-shadow: 0px 1px 3px 1px rgba(0, 0, 0, 0.15);\n",
              "      filter: drop-shadow(0px 1px 2px rgba(0, 0, 0, 0.3));\n",
              "      fill: #FFFFFF;\n",
              "    }\n",
              "  </style>\n",
              "\n",
              "      <script>\n",
              "        const buttonEl =\n",
              "          document.querySelector('#df-78929d06-a010-4d18-83e2-30c85d7b3bf0 button.colab-df-convert');\n",
              "        buttonEl.style.display =\n",
              "          google.colab.kernel.accessAllowed ? 'block' : 'none';\n",
              "\n",
              "        async function convertToInteractive(key) {\n",
              "          const element = document.querySelector('#df-78929d06-a010-4d18-83e2-30c85d7b3bf0');\n",
              "          const dataTable =\n",
              "            await google.colab.kernel.invokeFunction('convertToInteractive',\n",
              "                                                     [key], {});\n",
              "          if (!dataTable) return;\n",
              "\n",
              "          const docLinkHtml = 'Like what you see? Visit the ' +\n",
              "            '<a target=\"_blank\" href=https://colab.research.google.com/notebooks/data_table.ipynb>data table notebook</a>'\n",
              "            + ' to learn more about interactive tables.';\n",
              "          element.innerHTML = '';\n",
              "          dataTable['output_type'] = 'display_data';\n",
              "          await google.colab.output.renderOutput(dataTable, element);\n",
              "          const docLink = document.createElement('div');\n",
              "          docLink.innerHTML = docLinkHtml;\n",
              "          element.appendChild(docLink);\n",
              "        }\n",
              "      </script>\n",
              "    </div>\n",
              "  </div>\n",
              "  "
            ]
          },
          "metadata": {},
          "execution_count": 79
        }
      ]
    },
    {
      "cell_type": "code",
      "source": [
        "def preprocess_text(text: str, remove_stopwords: bool) -> str:\n",
        "    \"\"\"Fungsi ini membersihkan teks input dengan\n",
        "     - menghapus link\n",
        "     - menghapus karakter khusus\n",
        "     - menghapus nomor\n",
        "     - menghapus stopwords\n",
        "     - mengubah dalam huruf kecil\n",
        "     - menghapus spasi yang berlebihan\n",
        "     Argumen:\n",
        "         teks (str): teks untuk dibersihkan\n",
        "         remove_stopwords (bool): True = hapus stopwords atau False = tidak\n",
        "     \"\"\"\n",
        "    # Hapus links\n",
        "    text = re.sub(r\"http\\S+\", \"\", str(text))\n",
        "    # Hapus nomor dan karakter khusus\n",
        "    text = re.sub(\"[^A-Za-z]+\", \" \", str(text))\n",
        "    # Hapus stopwords\n",
        "    if remove_stopwords:\n",
        "        # 1. Membuat Token\n",
        "        tokens = nltk.word_tokenize(text)\n",
        "        # 2. Mengecek token apabila terdapat stopwords maka dihapus\n",
        "        stopwords_ind = stopwords.words(\"indonesian\")\n",
        "        stopwords_ind += ['com','rp','m','ol','nan','and'] #tambahan apabila stopwords tidak terdapat dalam corpus\n",
        "        tokens = [w for w in tokens if not w.lower() in stopwords_ind]\n",
        "        # 3. Mengabungkan token kembali\n",
        "        text = \" \".join(tokens)\n",
        "    #mereturn text yang sudah dicleaning dengan huruf kecil\n",
        "    text = text.lower().strip()\n",
        "    return text"
      ],
      "metadata": {
        "id": "UF5jUUuvQNaq"
      },
      "execution_count": null,
      "outputs": []
    },
    {
      "cell_type": "code",
      "source": [
        "nltk.download('punkt')\n",
        "nltk.download('stopwords')\n",
        "\n",
        "data['cleanedtitle'] = data['title'].apply(lambda x: preprocess_text(x, remove_stopwords=True))\n",
        "data['cleanedabstrak'] = data['abstrak'].apply(lambda x: preprocess_text(x, remove_stopwords=True))\n",
        "data.head(100)[['title', 'abstrak','cleanedtitle','cleanedabstrak']]"
      ],
      "metadata": {
        "colab": {
          "base_uri": "https://localhost:8080/",
          "height": 589
        },
        "id": "ajFHVpS9QQ16",
        "outputId": "a63d9c5a-6e6e-4786-e8b7-df3e3446d609"
      },
      "execution_count": null,
      "outputs": [
        {
          "output_type": "stream",
          "name": "stderr",
          "text": [
            "[nltk_data] Downloading package punkt to /root/nltk_data...\n",
            "[nltk_data]   Package punkt is already up-to-date!\n",
            "[nltk_data] Downloading package stopwords to /root/nltk_data...\n",
            "[nltk_data]   Package stopwords is already up-to-date!\n"
          ]
        },
        {
          "output_type": "execute_result",
          "data": {
            "text/plain": [
              "                                                title  \\\n",
              "0   APLIKASI CHATBOT BERBASIS WEB MENGGUNAKAN METO...   \n",
              "1   Pelabelan Data Dengan Latent Dirichlet Allocat...   \n",
              "2   Penerapan Computer Vision Untuk Pendeteksian D...   \n",
              "3   Klasifikasi Citra Game Batu Kertas Gunting Men...   \n",
              "4   ANALISIS USAHA TERNAK AYAM BROILER DI PETERNAK...   \n",
              "..                                                ...   \n",
              "95  Deteksi Pelanggaran Lampu Lalu Lintas Berdasar...   \n",
              "96  Aplikasi Pengolahan Sinyal Suara pada Teknolog...   \n",
              "97  PENDEKATAN ANN (ARTIFICIAL NEURAL NETWORK) UNT...   \n",
              "98  Implementasi Algoritma Artificial Neural Netwo...   \n",
              "99  Klasifikasi penderita kanker Paru Paru Menggun...   \n",
              "\n",
              "                                              abstrak  \\\n",
              "0   Chatbot adalah sebuah program komputer yang di...   \n",
              "1   Media sosial telah cukup lama menjadi sumber u...   \n",
              "2   Pembatasan kapasitas pengunjung pada suatu tem...   \n",
              "3   Permainan batu, gunting, dan kertas sangat pop...   \n",
              "4   Penelitian ini bertujuan untuk mengetahui besa...   \n",
              "..                                                ...   \n",
              "95  Peningkatan jumlah pengendara yang pesat beref...   \n",
              "96  Dalam konsep Kecerdasan Buatan (Artificial Int...   \n",
              "97  Pengambilan keputusan dalam estimasi biaya dal...   \n",
              "98  Perkembangan kecerdasan buatan telah dimanfaat...   \n",
              "99  Kanker adalah penyakit yang disebabkan oleh pe...   \n",
              "\n",
              "                                         cleanedtitle  \\\n",
              "0     aplikasi chatbot berbasis web metode dialogflow   \n",
              "1   pelabelan data latent dirichlet allocation k m...   \n",
              "2   penerapan computer vision pendeteksian penghit...   \n",
              "3   klasifikasi citra game batu kertas gunting con...   \n",
              "4   analisis usaha ternak ayam broiler peternakan ...   \n",
              "..                                                ...   \n",
              "95  deteksi pelanggaran lampu lintas berdasarkan s...   \n",
              "96  aplikasi pengolahan sinyal suara teknologi kec...   \n",
              "97  pendekatan ann artificial neural network penen...   \n",
              "98  implementasi algoritma artificial neural netwo...   \n",
              "99  klasifikasi penderita kanker paru paru algorit...   \n",
              "\n",
              "                                       cleanedabstrak  \n",
              "0   chatbot program komputer dirancang menstimulas...  \n",
              "1   media sosial sumber utama sentimen analisis tr...  \n",
              "2   pembatasan kapasitas pengunjung situasi kondis...  \n",
              "3   permainan batu gunting kertas populer dunia pe...  \n",
              "4   penelitian bertujuan besarnya pendapatan usaha...  \n",
              "..                                                ...  \n",
              "95  peningkatan pengendara pesat berefek pelanggar...  \n",
              "96  konsep kecerdasan buatan artificial intellegen...  \n",
              "97  pengambilan keputusan estimasi biaya proses pe...  \n",
              "98  perkembangan kecerdasan buatan dimanfaatkan bi...  \n",
              "99  kanker penyakit disebabkan perubahan sel menye...  \n",
              "\n",
              "[100 rows x 4 columns]"
            ],
            "text/html": [
              "\n",
              "  <div id=\"df-b00e5410-9fed-496d-ad2e-422c743d0fc4\">\n",
              "    <div class=\"colab-df-container\">\n",
              "      <div>\n",
              "<style scoped>\n",
              "    .dataframe tbody tr th:only-of-type {\n",
              "        vertical-align: middle;\n",
              "    }\n",
              "\n",
              "    .dataframe tbody tr th {\n",
              "        vertical-align: top;\n",
              "    }\n",
              "\n",
              "    .dataframe thead th {\n",
              "        text-align: right;\n",
              "    }\n",
              "</style>\n",
              "<table border=\"1\" class=\"dataframe\">\n",
              "  <thead>\n",
              "    <tr style=\"text-align: right;\">\n",
              "      <th></th>\n",
              "      <th>title</th>\n",
              "      <th>abstrak</th>\n",
              "      <th>cleanedtitle</th>\n",
              "      <th>cleanedabstrak</th>\n",
              "    </tr>\n",
              "  </thead>\n",
              "  <tbody>\n",
              "    <tr>\n",
              "      <th>0</th>\n",
              "      <td>APLIKASI CHATBOT BERBASIS WEB MENGGUNAKAN METO...</td>\n",
              "      <td>Chatbot adalah sebuah program komputer yang di...</td>\n",
              "      <td>aplikasi chatbot berbasis web metode dialogflow</td>\n",
              "      <td>chatbot program komputer dirancang menstimulas...</td>\n",
              "    </tr>\n",
              "    <tr>\n",
              "      <th>1</th>\n",
              "      <td>Pelabelan Data Dengan Latent Dirichlet Allocat...</td>\n",
              "      <td>Media sosial telah cukup lama menjadi sumber u...</td>\n",
              "      <td>pelabelan data latent dirichlet allocation k m...</td>\n",
              "      <td>media sosial sumber utama sentimen analisis tr...</td>\n",
              "    </tr>\n",
              "    <tr>\n",
              "      <th>2</th>\n",
              "      <td>Penerapan Computer Vision Untuk Pendeteksian D...</td>\n",
              "      <td>Pembatasan kapasitas pengunjung pada suatu tem...</td>\n",
              "      <td>penerapan computer vision pendeteksian penghit...</td>\n",
              "      <td>pembatasan kapasitas pengunjung situasi kondis...</td>\n",
              "    </tr>\n",
              "    <tr>\n",
              "      <th>3</th>\n",
              "      <td>Klasifikasi Citra Game Batu Kertas Gunting Men...</td>\n",
              "      <td>Permainan batu, gunting, dan kertas sangat pop...</td>\n",
              "      <td>klasifikasi citra game batu kertas gunting con...</td>\n",
              "      <td>permainan batu gunting kertas populer dunia pe...</td>\n",
              "    </tr>\n",
              "    <tr>\n",
              "      <th>4</th>\n",
              "      <td>ANALISIS USAHA TERNAK AYAM BROILER DI PETERNAK...</td>\n",
              "      <td>Penelitian ini bertujuan untuk mengetahui besa...</td>\n",
              "      <td>analisis usaha ternak ayam broiler peternakan ...</td>\n",
              "      <td>penelitian bertujuan besarnya pendapatan usaha...</td>\n",
              "    </tr>\n",
              "    <tr>\n",
              "      <th>...</th>\n",
              "      <td>...</td>\n",
              "      <td>...</td>\n",
              "      <td>...</td>\n",
              "      <td>...</td>\n",
              "    </tr>\n",
              "    <tr>\n",
              "      <th>95</th>\n",
              "      <td>Deteksi Pelanggaran Lampu Lalu Lintas Berdasar...</td>\n",
              "      <td>Peningkatan jumlah pengendara yang pesat beref...</td>\n",
              "      <td>deteksi pelanggaran lampu lintas berdasarkan s...</td>\n",
              "      <td>peningkatan pengendara pesat berefek pelanggar...</td>\n",
              "    </tr>\n",
              "    <tr>\n",
              "      <th>96</th>\n",
              "      <td>Aplikasi Pengolahan Sinyal Suara pada Teknolog...</td>\n",
              "      <td>Dalam konsep Kecerdasan Buatan (Artificial Int...</td>\n",
              "      <td>aplikasi pengolahan sinyal suara teknologi kec...</td>\n",
              "      <td>konsep kecerdasan buatan artificial intellegen...</td>\n",
              "    </tr>\n",
              "    <tr>\n",
              "      <th>97</th>\n",
              "      <td>PENDEKATAN ANN (ARTIFICIAL NEURAL NETWORK) UNT...</td>\n",
              "      <td>Pengambilan keputusan dalam estimasi biaya dal...</td>\n",
              "      <td>pendekatan ann artificial neural network penen...</td>\n",
              "      <td>pengambilan keputusan estimasi biaya proses pe...</td>\n",
              "    </tr>\n",
              "    <tr>\n",
              "      <th>98</th>\n",
              "      <td>Implementasi Algoritma Artificial Neural Netwo...</td>\n",
              "      <td>Perkembangan kecerdasan buatan telah dimanfaat...</td>\n",
              "      <td>implementasi algoritma artificial neural netwo...</td>\n",
              "      <td>perkembangan kecerdasan buatan dimanfaatkan bi...</td>\n",
              "    </tr>\n",
              "    <tr>\n",
              "      <th>99</th>\n",
              "      <td>Klasifikasi penderita kanker Paru Paru Menggun...</td>\n",
              "      <td>Kanker adalah penyakit yang disebabkan oleh pe...</td>\n",
              "      <td>klasifikasi penderita kanker paru paru algorit...</td>\n",
              "      <td>kanker penyakit disebabkan perubahan sel menye...</td>\n",
              "    </tr>\n",
              "  </tbody>\n",
              "</table>\n",
              "<p>100 rows × 4 columns</p>\n",
              "</div>\n",
              "      <button class=\"colab-df-convert\" onclick=\"convertToInteractive('df-b00e5410-9fed-496d-ad2e-422c743d0fc4')\"\n",
              "              title=\"Convert this dataframe to an interactive table.\"\n",
              "              style=\"display:none;\">\n",
              "        \n",
              "  <svg xmlns=\"http://www.w3.org/2000/svg\" height=\"24px\"viewBox=\"0 0 24 24\"\n",
              "       width=\"24px\">\n",
              "    <path d=\"M0 0h24v24H0V0z\" fill=\"none\"/>\n",
              "    <path d=\"M18.56 5.44l.94 2.06.94-2.06 2.06-.94-2.06-.94-.94-2.06-.94 2.06-2.06.94zm-11 1L8.5 8.5l.94-2.06 2.06-.94-2.06-.94L8.5 2.5l-.94 2.06-2.06.94zm10 10l.94 2.06.94-2.06 2.06-.94-2.06-.94-.94-2.06-.94 2.06-2.06.94z\"/><path d=\"M17.41 7.96l-1.37-1.37c-.4-.4-.92-.59-1.43-.59-.52 0-1.04.2-1.43.59L10.3 9.45l-7.72 7.72c-.78.78-.78 2.05 0 2.83L4 21.41c.39.39.9.59 1.41.59.51 0 1.02-.2 1.41-.59l7.78-7.78 2.81-2.81c.8-.78.8-2.07 0-2.86zM5.41 20L4 18.59l7.72-7.72 1.47 1.35L5.41 20z\"/>\n",
              "  </svg>\n",
              "      </button>\n",
              "      \n",
              "  <style>\n",
              "    .colab-df-container {\n",
              "      display:flex;\n",
              "      flex-wrap:wrap;\n",
              "      gap: 12px;\n",
              "    }\n",
              "\n",
              "    .colab-df-convert {\n",
              "      background-color: #E8F0FE;\n",
              "      border: none;\n",
              "      border-radius: 50%;\n",
              "      cursor: pointer;\n",
              "      display: none;\n",
              "      fill: #1967D2;\n",
              "      height: 32px;\n",
              "      padding: 0 0 0 0;\n",
              "      width: 32px;\n",
              "    }\n",
              "\n",
              "    .colab-df-convert:hover {\n",
              "      background-color: #E2EBFA;\n",
              "      box-shadow: 0px 1px 2px rgba(60, 64, 67, 0.3), 0px 1px 3px 1px rgba(60, 64, 67, 0.15);\n",
              "      fill: #174EA6;\n",
              "    }\n",
              "\n",
              "    [theme=dark] .colab-df-convert {\n",
              "      background-color: #3B4455;\n",
              "      fill: #D2E3FC;\n",
              "    }\n",
              "\n",
              "    [theme=dark] .colab-df-convert:hover {\n",
              "      background-color: #434B5C;\n",
              "      box-shadow: 0px 1px 3px 1px rgba(0, 0, 0, 0.15);\n",
              "      filter: drop-shadow(0px 1px 2px rgba(0, 0, 0, 0.3));\n",
              "      fill: #FFFFFF;\n",
              "    }\n",
              "  </style>\n",
              "\n",
              "      <script>\n",
              "        const buttonEl =\n",
              "          document.querySelector('#df-b00e5410-9fed-496d-ad2e-422c743d0fc4 button.colab-df-convert');\n",
              "        buttonEl.style.display =\n",
              "          google.colab.kernel.accessAllowed ? 'block' : 'none';\n",
              "\n",
              "        async function convertToInteractive(key) {\n",
              "          const element = document.querySelector('#df-b00e5410-9fed-496d-ad2e-422c743d0fc4');\n",
              "          const dataTable =\n",
              "            await google.colab.kernel.invokeFunction('convertToInteractive',\n",
              "                                                     [key], {});\n",
              "          if (!dataTable) return;\n",
              "\n",
              "          const docLinkHtml = 'Like what you see? Visit the ' +\n",
              "            '<a target=\"_blank\" href=https://colab.research.google.com/notebooks/data_table.ipynb>data table notebook</a>'\n",
              "            + ' to learn more about interactive tables.';\n",
              "          element.innerHTML = '';\n",
              "          dataTable['output_type'] = 'display_data';\n",
              "          await google.colab.output.renderOutput(dataTable, element);\n",
              "          const docLink = document.createElement('div');\n",
              "          docLink.innerHTML = docLinkHtml;\n",
              "          element.appendChild(docLink);\n",
              "        }\n",
              "      </script>\n",
              "    </div>\n",
              "  </div>\n",
              "  "
            ]
          },
          "metadata": {},
          "execution_count": 81
        }
      ]
    },
    {
      "cell_type": "code",
      "source": [
        "from gensim.models import LdaModel\n",
        "from gensim.models.coherencemodel import CoherenceModel\n",
        "from gensim.corpora import Dictionary\n",
        "\n",
        "# Membangun kamus (dictionary) dari data\n",
        "texts = [document.split() for document in data['cleanedabstrak']]\n",
        "dictionary = Dictionary(texts)\n",
        "corpus = [dictionary.doc2bow(text) for text in texts]\n",
        "\n",
        "# Menentukan jumlah topik yang akan dievaluasi\n",
        "num_topics = range(2, 10)\n",
        "coherence_scores = []\n",
        "\n",
        "for n in num_topics:\n",
        "    # Melatih model LDA pada data dengan jumlah topik n\n",
        "    lda_model = LdaModel(corpus=corpus, id2word=dictionary, num_topics=n)\n",
        "\n",
        "    # Menghitung coherence score\n",
        "    coherence_model = CoherenceModel(model=lda_model, texts=texts, dictionary=dictionary, coherence='c_v')\n",
        "    coherence_score = coherence_model.get_coherence()\n",
        "    coherence_scores.append(coherence_score)\n",
        "\n",
        "# Menampilkan hasil coherence score untuk setiap jumlah topik\n",
        "for n, score in zip(num_topics, coherence_scores):\n",
        "    print(\"Number of topics: {}, Coherence Score: {}\".format(n, score))"
      ],
      "metadata": {
        "colab": {
          "base_uri": "https://localhost:8080/"
        },
        "id": "6XDgH4V7y89h",
        "outputId": "deb4172e-4826-4ac9-b31a-ef6f42fb9673"
      },
      "execution_count": null,
      "outputs": [
        {
          "output_type": "stream",
          "name": "stderr",
          "text": [
            "WARNING:gensim.models.ldamodel:too few updates, training might not converge; consider increasing the number of passes or iterations to improve accuracy\n",
            "WARNING:gensim.models.ldamodel:too few updates, training might not converge; consider increasing the number of passes or iterations to improve accuracy\n",
            "WARNING:gensim.models.ldamodel:too few updates, training might not converge; consider increasing the number of passes or iterations to improve accuracy\n",
            "WARNING:gensim.models.ldamodel:too few updates, training might not converge; consider increasing the number of passes or iterations to improve accuracy\n",
            "WARNING:gensim.models.ldamodel:too few updates, training might not converge; consider increasing the number of passes or iterations to improve accuracy\n",
            "WARNING:gensim.models.ldamodel:too few updates, training might not converge; consider increasing the number of passes or iterations to improve accuracy\n",
            "WARNING:gensim.models.ldamodel:too few updates, training might not converge; consider increasing the number of passes or iterations to improve accuracy\n",
            "WARNING:gensim.models.ldamodel:too few updates, training might not converge; consider increasing the number of passes or iterations to improve accuracy\n"
          ]
        },
        {
          "output_type": "stream",
          "name": "stdout",
          "text": [
            "Number of topics: 2, Coherence Score: 0.27115206894999616\n",
            "Number of topics: 3, Coherence Score: 0.2983856000929264\n",
            "Number of topics: 4, Coherence Score: 0.3358686428907555\n",
            "Number of topics: 5, Coherence Score: 0.3273456164620884\n",
            "Number of topics: 6, Coherence Score: 0.2896608763863466\n",
            "Number of topics: 7, Coherence Score: 0.3510045737084498\n",
            "Number of topics: 8, Coherence Score: 0.3620377388789295\n",
            "Number of topics: 9, Coherence Score: 0.334310709517401\n"
          ]
        }
      ]
    },
    {
      "cell_type": "code",
      "source": [
        "sentences = [doc.lower().split() for doc in data['cleanedabstrak']]"
      ],
      "metadata": {
        "id": "Zro4oq3PTttY"
      },
      "execution_count": null,
      "outputs": []
    },
    {
      "cell_type": "code",
      "source": [
        "import os\n",
        "import numpy as np\n",
        "from gensim.models import Word2Vec\n",
        "from sklearn.cluster import KMeans\n",
        "import networkx as nx\n",
        "import matplotlib.pyplot as plt"
      ],
      "metadata": {
        "id": "-m9JtQZrEvGC"
      },
      "execution_count": null,
      "outputs": []
    },
    {
      "cell_type": "code",
      "source": [
        "from yellowbrick.cluster import KElbowVisualizer\n",
        "\n",
        "model = Word2Vec(sentences, window=5, min_count=7, workers=4)\n",
        "\n",
        "word_vectors = model.wv\n",
        "word_vectors_matrix = word_vectors.vectors[:100]\n",
        "\n",
        "kmeans = KMeans(random_state=42)\n",
        "visualizer = KElbowVisualizer(kmeans, k=(1, 10))\n",
        "visualizer.fit(word_vectors_matrix)\n",
        "visualizer.show()"
      ],
      "metadata": {
        "id": "2JLmBe6rMM5M",
        "colab": {
          "base_uri": "https://localhost:8080/",
          "height": 874
        },
        "outputId": "968cc43f-5cb5-4e5f-839d-817a829d3726"
      },
      "execution_count": null,
      "outputs": [
        {
          "output_type": "stream",
          "name": "stderr",
          "text": [
            "/usr/local/lib/python3.10/dist-packages/sklearn/cluster/_kmeans.py:870: FutureWarning: The default value of `n_init` will change from 10 to 'auto' in 1.4. Set the value of `n_init` explicitly to suppress the warning\n",
            "  warnings.warn(\n",
            "/usr/local/lib/python3.10/dist-packages/sklearn/cluster/_kmeans.py:870: FutureWarning: The default value of `n_init` will change from 10 to 'auto' in 1.4. Set the value of `n_init` explicitly to suppress the warning\n",
            "  warnings.warn(\n",
            "/usr/local/lib/python3.10/dist-packages/sklearn/cluster/_kmeans.py:870: FutureWarning: The default value of `n_init` will change from 10 to 'auto' in 1.4. Set the value of `n_init` explicitly to suppress the warning\n",
            "  warnings.warn(\n",
            "/usr/local/lib/python3.10/dist-packages/sklearn/cluster/_kmeans.py:870: FutureWarning: The default value of `n_init` will change from 10 to 'auto' in 1.4. Set the value of `n_init` explicitly to suppress the warning\n",
            "  warnings.warn(\n",
            "/usr/local/lib/python3.10/dist-packages/sklearn/cluster/_kmeans.py:870: FutureWarning: The default value of `n_init` will change from 10 to 'auto' in 1.4. Set the value of `n_init` explicitly to suppress the warning\n",
            "  warnings.warn(\n",
            "/usr/local/lib/python3.10/dist-packages/sklearn/cluster/_kmeans.py:870: FutureWarning: The default value of `n_init` will change from 10 to 'auto' in 1.4. Set the value of `n_init` explicitly to suppress the warning\n",
            "  warnings.warn(\n",
            "/usr/local/lib/python3.10/dist-packages/sklearn/cluster/_kmeans.py:870: FutureWarning: The default value of `n_init` will change from 10 to 'auto' in 1.4. Set the value of `n_init` explicitly to suppress the warning\n",
            "  warnings.warn(\n",
            "/usr/local/lib/python3.10/dist-packages/sklearn/cluster/_kmeans.py:870: FutureWarning: The default value of `n_init` will change from 10 to 'auto' in 1.4. Set the value of `n_init` explicitly to suppress the warning\n",
            "  warnings.warn(\n",
            "/usr/local/lib/python3.10/dist-packages/sklearn/cluster/_kmeans.py:870: FutureWarning: The default value of `n_init` will change from 10 to 'auto' in 1.4. Set the value of `n_init` explicitly to suppress the warning\n",
            "  warnings.warn(\n"
          ]
        },
        {
          "output_type": "display_data",
          "data": {
            "text/plain": [
              "<Figure size 800x550 with 2 Axes>"
            ],
            "image/png": "[encoded data removed]"
          },
          "metadata": {}
        },
        {
          "output_type": "execute_result",
          "data": {
            "text/plain": [
              "<Axes: title={'center': 'Distortion Score Elbow for KMeans Clustering'}, xlabel='k', ylabel='distortion score'>"
            ]
          },
          "metadata": {},
          "execution_count": 85
        }
      ]
    },
    {
      "cell_type": "code",
      "source": [
        "num_clusters = 4\n",
        "kmeans = KMeans(n_clusters=num_clusters, random_state=42)\n",
        "kmeans.fit(word_vectors_matrix)\n",
        "clusters = kmeans.labels_"
      ],
      "metadata": {
        "colab": {
          "base_uri": "https://localhost:8080/"
        },
        "id": "CN9NAraV12Kl",
        "outputId": "3c5c6795-f352-4193-dc1a-e55046f1e7f3"
      },
      "execution_count": null,
      "outputs": [
        {
          "output_type": "stream",
          "name": "stderr",
          "text": [
            "/usr/local/lib/python3.10/dist-packages/sklearn/cluster/_kmeans.py:870: FutureWarning: The default value of `n_init` will change from 10 to 'auto' in 1.4. Set the value of `n_init` explicitly to suppress the warning\n",
            "  warnings.warn(\n"
          ]
        }
      ]
    },
    {
      "cell_type": "code",
      "source": [
        "pca = PCA(n_components=2, random_state=42)\n",
        "pca_vecs = pca.fit_transform(word_vectors_matrix)\n",
        "x0 = pca_vecs[:, 0]\n",
        "x1 = pca_vecs[:, 1]\n",
        "\n",
        "data['cluster'] = clusters\n",
        "data['x0'] = x0\n",
        "data['x1'] = x1"
      ],
      "metadata": {
        "id": "CzvSnq7H2I9k"
      },
      "execution_count": null,
      "outputs": []
    },
    {
      "cell_type": "code",
      "source": [
        "def get_top_keywords(n_terms):\n",
        "    \"\"\"Fungsi ini mengembalikan kata kunci untuk setiap centroid KMeans\"\"\"\n",
        "    word_vectors = model.wv\n",
        "    centroids = kmeans.cluster_centers_\n",
        "\n",
        "    for i, centroid in enumerate(centroids):\n",
        "        distances = np.linalg.norm(word_vectors.vectors - centroid, axis=1)\n",
        "        top_indices = np.argsort(distances)[:n_terms]\n",
        "        top_keywords = [word_vectors.index_to_key[idx] for idx in top_indices]\n",
        "\n",
        "        print('\\nCluster {}'.format(i))\n",
        "        print(','.join(top_keywords))\n",
        "\n",
        "get_top_keywords(10)"
      ],
      "metadata": {
        "colab": {
          "base_uri": "https://localhost:8080/"
        },
        "id": "7px-v9tk4m5_",
        "outputId": "8805779e-d0e4-463e-a48f-122b1c75b166"
      },
      "execution_count": null,
      "outputs": [
        {
          "output_type": "stream",
          "name": "stdout",
          "text": [
            "\n",
            "Cluster 0\n",
            "negara,kebutuhan,kontrol,bertujuan,berdasarkan,kalori,membantu,analisis,robot,dunia\n",
            "\n",
            "Cluster 1\n",
            "internet,bentuk,tingkat,optimal,mendeteksi,sesuai,ai,pembelajaran,produk,mengalami\n",
            "\n",
            "Cluster 2\n",
            "metode,sistem,penelitian,hasil,memiliki,data,manusia,keamanan,pid,pelanggan\n",
            "\n",
            "Cluster 3\n",
            "proses,salah,cyber,siber,pelanggan,tepung,nilai,indonesia,informasi,pid\n"
          ]
        }
      ]
    },
    {
      "cell_type": "code",
      "source": [
        "data.loc[0:9, 'cluster']"
      ],
      "metadata": {
        "colab": {
          "base_uri": "https://localhost:8080/"
        },
        "id": "49WzJSnr9-J0",
        "outputId": "83c89beb-6487-4bd8-b099-15ae826ae8ec"
      },
      "execution_count": null,
      "outputs": [
        {
          "output_type": "execute_result",
          "data": {
            "text/plain": [
              "0    2\n",
              "1    2\n",
              "2    2\n",
              "3    2\n",
              "4    3\n",
              "5    3\n",
              "6    3\n",
              "7    3\n",
              "8    3\n",
              "9    0\n",
              "Name: cluster, dtype: int32"
            ]
          },
          "metadata": {},
          "execution_count": 89
        }
      ]
    },
    {
      "cell_type": "code",
      "source": [
        "from sklearn.metrics import accuracy_score, precision_score, recall_score, f1_score\n",
        "\n",
        "# Menghitung metrik-metrik evaluasi\n",
        "accuracy = accuracy_score(data['truelabel'], data['cluster'])\n",
        "precision = precision_score(data['truelabel'], data['cluster'], average='weighted')\n",
        "recall = recall_score(data['truelabel'], data['cluster'], average='weighted')\n",
        "f1 = f1_score(data['truelabel'], data['cluster'], average='weighted')\n",
        "\n",
        "print(\"Accuracy:\", accuracy)\n",
        "print(\"Precision:\", precision)\n",
        "print(\"Recall:\", recall)\n",
        "print(\"F1 Score:\", f1)"
      ],
      "metadata": {
        "colab": {
          "base_uri": "https://localhost:8080/"
        },
        "id": "t4qC_Pyqw4oC",
        "outputId": "6bd3c72d-cbfa-456c-e041-57ce2b5c16eb"
      },
      "execution_count": null,
      "outputs": [
        {
          "output_type": "stream",
          "name": "stdout",
          "text": [
            "Accuracy: 0.33\n",
            "Precision: 0.3976697386420909\n",
            "Recall: 0.33\n",
            "F1 Score: 0.3460470085470086\n"
          ]
        }
      ]
    },
    {
      "cell_type": "code",
      "source": [
        "data.loc[0:9,'cluster']"
      ],
      "metadata": {
        "colab": {
          "base_uri": "https://localhost:8080/"
        },
        "id": "tZKBx6he-GqH",
        "outputId": "9754e667-d560-4081-d473-0e1b46f4ea51"
      },
      "execution_count": null,
      "outputs": [
        {
          "output_type": "execute_result",
          "data": {
            "text/plain": [
              "0    2\n",
              "1    2\n",
              "2    2\n",
              "3    2\n",
              "4    3\n",
              "5    3\n",
              "6    3\n",
              "7    3\n",
              "8    3\n",
              "9    0\n",
              "Name: cluster, dtype: int32"
            ]
          },
          "metadata": {},
          "execution_count": 91
        }
      ]
    },
    {
      "cell_type": "code",
      "source": [
        "data.loc[0:9,'truelabel']"
      ],
      "metadata": {
        "colab": {
          "base_uri": "https://localhost:8080/"
        },
        "id": "lVJQ4w1Y-Izi",
        "outputId": "5ab419ee-e9a2-4301-b6c0-d3a1a984802d"
      },
      "execution_count": null,
      "outputs": [
        {
          "output_type": "execute_result",
          "data": {
            "text/plain": [
              "0    0\n",
              "1    0\n",
              "2    0\n",
              "3    0\n",
              "4    3\n",
              "5    0\n",
              "6    2\n",
              "7    0\n",
              "8    0\n",
              "9    0\n",
              "Name: truelabel, dtype: int64"
            ]
          },
          "metadata": {},
          "execution_count": 92
        }
      ]
    },
    {
      "cell_type": "code",
      "source": [
        "cluster_map = {0: \"Kontrol\", 1: \"Internet\", 2: \"Sistem\",3:\"Cyber\"} # Mapping dari cluster yang didapat dari fungsi get_top_keywords\n",
        "data['cluster'] = data['cluster'].map(cluster_map)\n",
        "\n",
        "#Image size\n",
        "plt.figure(figsize=(12, 7))\n",
        "#Judul\n",
        "plt.title(\"Word Embedding + KMeans\", fontdict={\"fontsize\": 18})\n",
        "#AXIS X = X0, AXIS Y = X1\n",
        "plt.xlabel(\"X0\", fontdict={\"fontsize\": 16})\n",
        "plt.ylabel(\"X1\", fontdict={\"fontsize\": 16})\n",
        "#plot\n",
        "sns.scatterplot(data=data, x='x0', y='x1', hue='cluster', palette=\"viridis\")\n",
        "\n",
        "plt.show()"
      ],
      "metadata": {
        "colab": {
          "base_uri": "https://localhost:8080/",
          "height": 653
        },
        "id": "f2qGAzNF-K3j",
        "outputId": "1ec2b6a4-7f43-40e2-a0e0-052fcd5e9b7c"
      },
      "execution_count": null,
      "outputs": [
        {
          "output_type": "display_data",
          "data": {
            "text/plain": [
              "<Figure size 1200x700 with 1 Axes>"
            ],
            "image/png": "[encoded data removed]"
          },
          "metadata": {}
        }
      ]
    }
  ]
}